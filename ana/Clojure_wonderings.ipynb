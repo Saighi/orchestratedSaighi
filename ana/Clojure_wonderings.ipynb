{
 "cells": [
  {
   "cell_type": "code",
   "execution_count": 2,
   "id": "metric-fashion",
   "metadata": {},
   "outputs": [
    {
     "name": "stderr",
     "output_type": "stream",
     "text": [
      "Execution error (FileNotFoundException) at user/eval4098 (REPL:1).\n",
      "Could not locate clojure/data/csv__init.class, clojure/data/csv.clj or clojure/data/csv.cljc on classpath.\n"
     ]
    },
    {
     "ename": "class java.io.FileNotFoundException",
     "evalue": "",
     "execution_count": 2,
     "output_type": "error",
     "status": "error",
     "traceback": [
      "    RT.java:   462 clojure.lang.RT/load",
      "   core.clj:  6126 clojure.core$load$fn__6839/invoke",
      "   core.clj:  6125 clojure.core$load/invokeStatic",
      "   core.clj:  6109 clojure.core$load/doInvoke",
      "RestFn.java:   408 clojure.lang.RestFn/invoke",
      "   core.clj:  5908 clojure.core$load_one/invokeStatic",
      "   core.clj:  5903 clojure.core$load_one/invoke",
      "   core.clj:  5948 clojure.core$load_lib$fn__6780/invoke",
      "   core.clj:  5947 clojure.core$load_lib/invokeStatic",
      "   core.clj:  5928 clojure.core$load_lib/doInvoke",
      "RestFn.java:   142 clojure.lang.RestFn/applyTo",
      "   core.clj:   667 clojure.core$apply/invokeStatic",
      "   core.clj:  5985 clojure.core$load_libs/invokeStatic",
      "   core.clj:  5969 clojure.core$load_libs/doInvoke",
      "RestFn.java:   137 clojure.lang.RestFn/applyTo",
      "   core.clj:   667 clojure.core$apply/invokeStatic",
      "   core.clj:  6007 clojure.core$require/invokeStatic",
      "RestFn.java:   421 clojure.lang.RestFn/invoke",
      "   core.clj:  3214 clojure.core$eval/invokeStatic",
      "   core.clj:  3210 clojure.core$eval/invoke",
      "   main.clj:   437 clojure.main$repl$read_eval_print__9086$fn__9089/invoke",
      "   main.clj:   458 clojure.main$repl$fn__9095/invoke",
      "   main.clj:   368 clojure.main$repl/doInvoke",
      "RestFn.java:  1523 clojure.lang.RestFn/invoke",
      "   AFn.java:    22 clojure.lang.AFn/run",
      "   AFn.java:    22 clojure.lang.AFn/run",
      "Thread.java:   745 java.lang.Thread/run"
     ]
    }
   ],
   "source": [
    "(require '[clojure.data.csv :as csv]\n",
    "         '[clojure.java.io :as io])"
   ]
  },
  {
   "cell_type": "code",
   "execution_count": null,
   "id": "little-humanity",
   "metadata": {},
   "outputs": [],
   "source": []
  }
 ],
 "metadata": {
  "kernelspec": {
   "display_name": "Clojure (clojupyter=0.3.2=1)",
   "language": "clojure",
   "name": "conda-clojupyter"
  },
  "language_info": {
   "file_extension": ".clj",
   "mimetype": "text/x-clojure",
   "name": "clojure",
   "version": "1.10.1"
  }
 },
 "nbformat": 4,
 "nbformat_minor": 5
}
