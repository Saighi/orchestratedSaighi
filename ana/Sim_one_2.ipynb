{
 "cells": [
  {
   "cell_type": "code",
   "execution_count": 61,
   "id": "ruled-modeling",
   "metadata": {},
   "outputs": [],
   "source": [
    "import sys\n",
    "import os\n",
    "import numpy as np\n",
    "import matplotlib.pyplot as plt\n",
    "import seaborn as sns\n",
    "from matplotlib.gridspec import GridSpec\n",
    "from scipy import signal\n",
    "from tools import *\n",
    "\n",
    "from sklearn.decomposition import NMF, PCA\n",
    "\n",
    "from scipy.sparse import *\n",
    "from scipy.io import mmread\n",
    "\n",
    "# Import auryn tools\n",
    "sys.path.append(os.path.expanduser(\"~/auryn/tools/python/\"))\n",
    "from auryntools import *\n",
    "from matplotlib import animation, rc\n",
    "from IPython.display import HTML\n",
    "import plotly.express as px\n",
    "import plotly.graph_objects as go\n",
    "import plotly.io as pio\n",
    "import tools\n",
    "import elephant\n",
    "import quantities as pq\n",
    "from neo.core import SpikeTrain\n",
    "import viziphant\n",
    "from pyvis.network import Network"
   ]
  },
  {
   "cell_type": "code",
   "execution_count": 62,
   "id": "rocky-showcase",
   "metadata": {},
   "outputs": [],
   "source": [
    "directory =os.path.expanduser(\"~/data/sim_neuron/last_sim\" )"
   ]
  },
  {
   "cell_type": "code",
   "execution_count": 63,
   "id": "related-israeli",
   "metadata": {},
   "outputs": [],
   "source": [
    "nb_neurons = 180"
   ]
  },
  {
   "cell_type": "code",
   "execution_count": 64,
   "id": "proof-filing",
   "metadata": {},
   "outputs": [],
   "source": [
    "rasterIn = np.genfromtxt(directory+'/input.0.ras')"
   ]
  },
  {
   "cell_type": "code",
   "execution_count": 65,
   "id": "homeless-corruption",
   "metadata": {},
   "outputs": [],
   "source": [
    "ListTrains = [[] for _ in range(nb_neurons)] \n",
    "for s in rasterIn:\n",
    "    ListTrains[int(s[1])].append(s[0])"
   ]
  },
  {
   "cell_type": "code",
   "execution_count": 66,
   "id": "renewable-transaction",
   "metadata": {},
   "outputs": [
    {
     "data": {
      "text/plain": [
       "<matplotlib.collections.PathCollection at 0x7efb6c8c8ee0>"
      ]
     },
     "execution_count": 66,
     "metadata": {},
     "output_type": "execute_result"
    },
    {
     "data": {
      "image/png": "[encoded data removed]",
      "text/plain": [
       "<Figure size 432x288 with 1 Axes>"
      ]
     },
     "metadata": {
      "needs_background": "light"
     },
     "output_type": "display_data"
    }
   ],
   "source": [
    "plt.scatter(rasterIn[:,0],rasterIn[:,1])"
   ]
  }
 ],
 "metadata": {
  "kernelspec": {
   "display_name": "Python 3",
   "language": "python",
   "name": "python3"
  },
  "language_info": {
   "codemirror_mode": {
    "name": "ipython",
    "version": 3
   },
   "file_extension": ".py",
   "mimetype": "text/x-python",
   "name": "python",
   "nbconvert_exporter": "python",
   "pygments_lexer": "ipython3",
   "version": "3.8.5"
  }
 },
 "nbformat": 4,
 "nbformat_minor": 5
}
